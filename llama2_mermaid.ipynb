{
 "cells": [
  {
   "cell_type": "code",
   "execution_count": null,
   "id": "2c608df5",
   "metadata": {},
   "outputs": [],
   "source": [
    "!pip install langchain replicate sentence-transformers chromadb pypdf"
   ]
  },
  {
   "cell_type": "code",
   "execution_count": 1,
   "id": "b9c5546a",
   "metadata": {},
   "outputs": [],
   "source": [
    "import os\n",
    "os.environ[\"REPLICATE_API_TOKEN\"] = 'r8_D7iyjOmUFyUxNjslxdWAo1neOfVdik33xgwBt'\n"
   ]
  },
  {
   "cell_type": "code",
   "execution_count": 2,
   "id": "ad536adb",
   "metadata": {},
   "outputs": [],
   "source": [
    "from langchain.llms import Replicate\n",
    "\n",
    "llama2_13b = \"meta/llama-2-13b-chat:f4e2de70d66816a838a89eeeb621910adffb0dd0baba3976c96980970978018d\"\n",
    "llm = Replicate(\n",
    "    model=llama2_13b,\n",
    "    model_kwargs={\"temperature\": 0.01, \"top_p\": 1, \"max_new_tokens\":500}\n",
    ")"
   ]
  },
  {
   "cell_type": "code",
   "execution_count": 3,
   "id": "0c09658b",
   "metadata": {},
   "outputs": [
    {
     "name": "stdout",
     "output_type": "stream",
     "text": [
      "Turn on computer. If computer is broken go to smart guy. If smart guy is in home ask him to repair it. If he is not in home, go to the shop. Choose computer. Buy computer. Turn it on.\n"
     ]
    }
   ],
   "source": [
    "workflow_to_be_converted = input()"
   ]
  },
  {
   "cell_type": "code",
   "execution_count": 4,
   "id": "493a7148",
   "metadata": {},
   "outputs": [
    {
     "name": "stdout",
     "output_type": "stream",
     "text": [
      " Sure! Here's the TD graph for the provided workflow:\n",
      "```mermaid\n",
      "graph LR\n",
      "   A[Computer] --> B[Smart Guy's Home]\n",
      "   B[Smart Guy's Home] --> C[Smart Guy]\n",
      "   C[Smart Guy] --> D[Computer Repair Shop]\n",
      "   D[Computer Repair Shop] --> E[Choose Computer]\n",
      "   E[Choose Computer] --> F[Buy Computer]\n",
      "   F[Buy Computer] --> G[Turn On Computer]\n",
      "```\n",
      "Here's a brief explanation of each step:\n",
      "\n",
      "A: Start at the computer.\n",
      "\n",
      "B: Go to the smart guy's home if the computer is broken.\n",
      "\n",
      "C: Ask the smart guy to repair the computer if he is at home.\n",
      "\n",
      "D: Go to the computer repair shop if the smart guy is not at home.\n",
      "\n",
      "E: Choose a computer to buy.\n",
      "\n",
      "F: Buy the chosen computer.\n",
      "\n",
      "G: Turn on the bought computer.\n",
      "\n",
      "I hope this helps! Let me know if you have any questions or need further assistance.\n"
     ]
    }
   ],
   "source": [
    "query = \"Create a correct syntatically mermaid (it must be mermaid!!) TD graph that describes provided workflow. Please include the code only. Use proper block shapes.\"\n",
    "answer = llm(query + workflow_to_be_converted)\n",
    "print(answer)"
   ]
  }
 ],
 "metadata": {
  "kernelspec": {
   "display_name": "Python 3 (ipykernel)",
   "language": "python",
   "name": "python3"
  },
  "language_info": {
   "codemirror_mode": {
    "name": "ipython",
    "version": 3
   },
   "file_extension": ".py",
   "mimetype": "text/x-python",
   "name": "python",
   "nbconvert_exporter": "python",
   "pygments_lexer": "ipython3",
   "version": "3.10.9"
  }
 },
 "nbformat": 4,
 "nbformat_minor": 5
}
