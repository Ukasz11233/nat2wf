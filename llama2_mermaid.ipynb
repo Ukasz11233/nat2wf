{
 "cells": [
  {
   "cell_type": "code",
   "execution_count": 5,
   "id": "66a22403",
   "metadata": {},
   "outputs": [
    {
     "name": "stdout",
     "output_type": "stream",
     "text": [
      "Requirement already satisfied: langchain in /home/ukasz/anaconda3/lib/python3.7/site-packages (0.0.27)\n",
      "Requirement already satisfied: replicate in /home/ukasz/anaconda3/lib/python3.7/site-packages (0.7.0)\n",
      "Requirement already satisfied: sentence-transformers in /home/ukasz/anaconda3/lib/python3.7/site-packages (2.2.2)\n",
      "Requirement already satisfied: chromadb in /home/ukasz/anaconda3/lib/python3.7/site-packages (0.4.14)\n",
      "Requirement already satisfied: pypdf in /home/ukasz/anaconda3/lib/python3.7/site-packages (4.0.0)\n",
      "Requirement already satisfied: numpy in /home/ukasz/anaconda3/lib/python3.7/site-packages (from langchain) (1.18.1)\n",
      "Requirement already satisfied: pyyaml in /home/ukasz/anaconda3/lib/python3.7/site-packages (from langchain) (5.3)\n",
      "Requirement already satisfied: pydantic in /home/ukasz/anaconda3/lib/python3.7/site-packages (from langchain) (2.5.3)\n",
      "Requirement already satisfied: requests in /home/ukasz/anaconda3/lib/python3.7/site-packages (from langchain) (2.22.0)\n",
      "Requirement already satisfied: sqlalchemy in /home/ukasz/anaconda3/lib/python3.7/site-packages (from langchain) (1.3.13)\n",
      "Requirement already satisfied: packaging in /home/ukasz/anaconda3/lib/python3.7/site-packages (from replicate) (20.1)\n",
      "Requirement already satisfied: scipy in /home/ukasz/anaconda3/lib/python3.7/site-packages (from sentence-transformers) (1.4.1)\n",
      "Requirement already satisfied: huggingface-hub>=0.4.0 in /home/ukasz/anaconda3/lib/python3.7/site-packages (from sentence-transformers) (0.16.4)\n",
      "Requirement already satisfied: nltk in /home/ukasz/anaconda3/lib/python3.7/site-packages (from sentence-transformers) (3.4.5)\n",
      "Requirement already satisfied: transformers<5.0.0,>=4.6.0 in /home/ukasz/anaconda3/lib/python3.7/site-packages (from sentence-transformers) (4.30.2)\n",
      "Requirement already satisfied: sentencepiece in /home/ukasz/anaconda3/lib/python3.7/site-packages (from sentence-transformers) (0.1.99)\n",
      "Requirement already satisfied: tqdm in /home/ukasz/anaconda3/lib/python3.7/site-packages (from sentence-transformers) (4.42.1)\n",
      "Requirement already satisfied: scikit-learn in /home/ukasz/anaconda3/lib/python3.7/site-packages (from sentence-transformers) (0.22.1)\n",
      "Requirement already satisfied: torch>=1.6.0 in /home/ukasz/anaconda3/lib/python3.7/site-packages (from sentence-transformers) (1.13.1)\n",
      "Requirement already satisfied: torchvision in /home/ukasz/anaconda3/lib/python3.7/site-packages (from sentence-transformers) (0.14.1)\n",
      "Requirement already satisfied: graphlib-backport>=1.0.3; python_version < \"3.9\" in /home/ukasz/anaconda3/lib/python3.7/site-packages (from chromadb) (1.0.3)\n",
      "Requirement already satisfied: overrides>=7.3.1 in /home/ukasz/anaconda3/lib/python3.7/site-packages (from chromadb) (7.6.0)\n",
      "Requirement already satisfied: typer>=0.9.0 in /home/ukasz/anaconda3/lib/python3.7/site-packages (from chromadb) (0.9.0)\n",
      "Requirement already satisfied: typing-extensions>=4.5.0 in /home/ukasz/anaconda3/lib/python3.7/site-packages (from chromadb) (4.7.1)\n",
      "Requirement already satisfied: pulsar-client>=3.1.0 in /home/ukasz/anaconda3/lib/python3.7/site-packages (from chromadb) (3.3.0)\n",
      "Requirement already satisfied: bcrypt>=4.0.1 in /home/ukasz/anaconda3/lib/python3.7/site-packages (from chromadb) (4.1.2)\n",
      "Requirement already satisfied: pypika>=0.48.9 in /home/ukasz/anaconda3/lib/python3.7/site-packages (from chromadb) (0.48.9)\n",
      "Requirement already satisfied: grpcio>=1.58.0 in /home/ukasz/anaconda3/lib/python3.7/site-packages (from chromadb) (1.60.0)\n",
      "Requirement already satisfied: posthog>=2.4.0 in /home/ukasz/anaconda3/lib/python3.7/site-packages (from chromadb) (3.3.2)\n",
      "Requirement already satisfied: chroma-hnswlib==0.7.3 in /home/ukasz/anaconda3/lib/python3.7/site-packages (from chromadb) (0.7.3)\n",
      "Requirement already satisfied: tokenizers>=0.13.2 in /home/ukasz/anaconda3/lib/python3.7/site-packages (from chromadb) (0.15.1)\n",
      "Requirement already satisfied: uvicorn[standard]>=0.18.3 in /home/ukasz/anaconda3/lib/python3.7/site-packages (from chromadb) (0.22.0)\n",
      "Requirement already satisfied: importlib-resources in /home/ukasz/anaconda3/lib/python3.7/site-packages (from chromadb) (5.12.0)\n",
      "Requirement already satisfied: fastapi>=0.95.2 in /home/ukasz/anaconda3/lib/python3.7/site-packages (from chromadb) (0.103.2)\n",
      "Requirement already satisfied: onnxruntime>=1.14.1 in /home/ukasz/anaconda3/lib/python3.7/site-packages (from chromadb) (1.14.1)\n",
      "Requirement already satisfied: annotated-types>=0.4.0 in /home/ukasz/anaconda3/lib/python3.7/site-packages (from pydantic->langchain) (0.5.0)\n",
      "Requirement already satisfied: importlib-metadata; python_version == \"3.7\" in /home/ukasz/anaconda3/lib/python3.7/site-packages (from pydantic->langchain) (1.5.0)\n",
      "Requirement already satisfied: pydantic-core==2.14.6 in /home/ukasz/anaconda3/lib/python3.7/site-packages (from pydantic->langchain) (2.14.6)\n",
      "Requirement already satisfied: idna<2.9,>=2.5 in /home/ukasz/anaconda3/lib/python3.7/site-packages (from requests->langchain) (2.8)\n",
      "Requirement already satisfied: certifi>=2017.4.17 in /home/ukasz/anaconda3/lib/python3.7/site-packages (from requests->langchain) (2019.11.28)\n",
      "Requirement already satisfied: urllib3!=1.25.0,!=1.25.1,<1.26,>=1.21.1 in /home/ukasz/anaconda3/lib/python3.7/site-packages (from requests->langchain) (1.25.8)\n",
      "Requirement already satisfied: chardet<3.1.0,>=3.0.2 in /home/ukasz/anaconda3/lib/python3.7/site-packages (from requests->langchain) (3.0.4)\n",
      "Requirement already satisfied: six in /home/ukasz/anaconda3/lib/python3.7/site-packages (from packaging->replicate) (1.14.0)\n",
      "Requirement already satisfied: pyparsing>=2.0.2 in /home/ukasz/anaconda3/lib/python3.7/site-packages (from packaging->replicate) (2.4.6)\n",
      "Requirement already satisfied: fsspec in /home/ukasz/anaconda3/lib/python3.7/site-packages (from huggingface-hub>=0.4.0->sentence-transformers) (0.6.2)\n",
      "Requirement already satisfied: filelock in /home/ukasz/anaconda3/lib/python3.7/site-packages (from huggingface-hub>=0.4.0->sentence-transformers) (3.0.12)\n",
      "Requirement already satisfied: safetensors>=0.3.1 in /home/ukasz/anaconda3/lib/python3.7/site-packages (from transformers<5.0.0,>=4.6.0->sentence-transformers) (0.4.1)\n",
      "Requirement already satisfied: regex!=2019.12.17 in /home/ukasz/anaconda3/lib/python3.7/site-packages (from transformers<5.0.0,>=4.6.0->sentence-transformers) (2023.12.25)\n",
      "Requirement already satisfied: joblib>=0.11 in /home/ukasz/anaconda3/lib/python3.7/site-packages (from scikit-learn->sentence-transformers) (0.14.1)\n",
      "Requirement already satisfied: nvidia-cublas-cu11==11.10.3.66; platform_system == \"Linux\" in /home/ukasz/anaconda3/lib/python3.7/site-packages (from torch>=1.6.0->sentence-transformers) (11.10.3.66)\n",
      "Requirement already satisfied: nvidia-cudnn-cu11==8.5.0.96; platform_system == \"Linux\" in /home/ukasz/anaconda3/lib/python3.7/site-packages (from torch>=1.6.0->sentence-transformers) (8.5.0.96)\n",
      "Requirement already satisfied: nvidia-cuda-runtime-cu11==11.7.99; platform_system == \"Linux\" in /home/ukasz/anaconda3/lib/python3.7/site-packages (from torch>=1.6.0->sentence-transformers) (11.7.99)\n",
      "Requirement already satisfied: nvidia-cuda-nvrtc-cu11==11.7.99; platform_system == \"Linux\" in /home/ukasz/anaconda3/lib/python3.7/site-packages (from torch>=1.6.0->sentence-transformers) (11.7.99)\n",
      "Requirement already satisfied: pillow!=8.3.*,>=5.3.0 in /home/ukasz/anaconda3/lib/python3.7/site-packages (from torchvision->sentence-transformers) (7.0.0)\n",
      "Requirement already satisfied: click<9.0.0,>=7.1.1 in /home/ukasz/anaconda3/lib/python3.7/site-packages (from typer>=0.9.0->chromadb) (8.1.7)\n",
      "Requirement already satisfied: backoff>=1.10.0 in /home/ukasz/anaconda3/lib/python3.7/site-packages (from posthog>=2.4.0->chromadb) (2.2.1)\n",
      "Requirement already satisfied: monotonic>=1.5 in /home/ukasz/anaconda3/lib/python3.7/site-packages (from posthog>=2.4.0->chromadb) (1.6)\n",
      "Requirement already satisfied: python-dateutil>2.1 in /home/ukasz/anaconda3/lib/python3.7/site-packages (from posthog>=2.4.0->chromadb) (2.8.1)\n",
      "Requirement already satisfied: h11>=0.8 in /home/ukasz/anaconda3/lib/python3.7/site-packages (from uvicorn[standard]>=0.18.3->chromadb) (0.14.0)\n",
      "Requirement already satisfied: uvloop!=0.15.0,!=0.15.1,>=0.14.0; sys_platform != \"win32\" and (sys_platform != \"cygwin\" and platform_python_implementation != \"PyPy\") and extra == \"standard\" in /home/ukasz/anaconda3/lib/python3.7/site-packages (from uvicorn[standard]>=0.18.3->chromadb) (0.18.0)\n"
     ]
    },
    {
     "name": "stdout",
     "output_type": "stream",
     "text": [
      "Requirement already satisfied: python-dotenv>=0.13; extra == \"standard\" in /home/ukasz/anaconda3/lib/python3.7/site-packages (from uvicorn[standard]>=0.18.3->chromadb) (0.21.1)\n",
      "Requirement already satisfied: websockets>=10.4; extra == \"standard\" in /home/ukasz/anaconda3/lib/python3.7/site-packages (from uvicorn[standard]>=0.18.3->chromadb) (11.0.3)\n",
      "Requirement already satisfied: httptools>=0.5.0; extra == \"standard\" in /home/ukasz/anaconda3/lib/python3.7/site-packages (from uvicorn[standard]>=0.18.3->chromadb) (0.6.0)\n",
      "Requirement already satisfied: watchfiles>=0.13; extra == \"standard\" in /home/ukasz/anaconda3/lib/python3.7/site-packages (from uvicorn[standard]>=0.18.3->chromadb) (0.20.0)\n",
      "Requirement already satisfied: zipp>=3.1.0; python_version < \"3.10\" in /home/ukasz/anaconda3/lib/python3.7/site-packages (from importlib-resources->chromadb) (3.15.0)\n",
      "Requirement already satisfied: anyio<4.0.0,>=3.7.1 in /home/ukasz/anaconda3/lib/python3.7/site-packages (from fastapi>=0.95.2->chromadb) (3.7.1)\n",
      "Requirement already satisfied: starlette<0.28.0,>=0.27.0 in /home/ukasz/anaconda3/lib/python3.7/site-packages (from fastapi>=0.95.2->chromadb) (0.27.0)\n",
      "Requirement already satisfied: protobuf in /home/ukasz/anaconda3/lib/python3.7/site-packages (from onnxruntime>=1.14.1->chromadb) (4.24.4)\n",
      "Requirement already satisfied: sympy in /home/ukasz/anaconda3/lib/python3.7/site-packages (from onnxruntime>=1.14.1->chromadb) (1.5.1)\n",
      "Requirement already satisfied: flatbuffers in /home/ukasz/anaconda3/lib/python3.7/site-packages (from onnxruntime>=1.14.1->chromadb) (23.5.26)\n",
      "Requirement already satisfied: coloredlogs in /home/ukasz/anaconda3/lib/python3.7/site-packages (from onnxruntime>=1.14.1->chromadb) (15.0.1)\n",
      "Requirement already satisfied: wheel in /home/ukasz/anaconda3/lib/python3.7/site-packages (from nvidia-cublas-cu11==11.10.3.66; platform_system == \"Linux\"->torch>=1.6.0->sentence-transformers) (0.34.2)\n",
      "Requirement already satisfied: setuptools in /home/ukasz/anaconda3/lib/python3.7/site-packages (from nvidia-cublas-cu11==11.10.3.66; platform_system == \"Linux\"->torch>=1.6.0->sentence-transformers) (45.2.0.post20200210)\n",
      "Requirement already satisfied: exceptiongroup; python_version < \"3.11\" in /home/ukasz/anaconda3/lib/python3.7/site-packages (from anyio<4.0.0,>=3.7.1->fastapi>=0.95.2->chromadb) (1.2.0)\n",
      "Requirement already satisfied: sniffio>=1.1 in /home/ukasz/anaconda3/lib/python3.7/site-packages (from anyio<4.0.0,>=3.7.1->fastapi>=0.95.2->chromadb) (1.3.0)\n",
      "Requirement already satisfied: mpmath>=0.19 in /home/ukasz/anaconda3/lib/python3.7/site-packages (from sympy->onnxruntime>=1.14.1->chromadb) (1.1.0)\n",
      "Requirement already satisfied: humanfriendly>=9.1 in /home/ukasz/anaconda3/lib/python3.7/site-packages (from coloredlogs->onnxruntime>=1.14.1->chromadb) (10.0)\n"
     ]
    }
   ],
   "source": [
    "!pip install langchain replicate sentence-transformers chromadb pypdf"
   ]
  },
  {
   "cell_type": "code",
   "execution_count": 2,
   "id": "4a214a94",
   "metadata": {},
   "outputs": [],
   "source": [
    "import os\n",
    "os.environ[\"REPLICATE_API_TOKEN\"] = 'r8_D7iyjOmUFyUxNjslxdWAo1neOfVdik33xgwBt'\n"
   ]
  },
  {
   "cell_type": "code",
   "execution_count": 7,
   "id": "d1716a21",
   "metadata": {},
   "outputs": [
    {
     "ename": "ModuleNotFoundError",
     "evalue": "No module named 'langchain'",
     "output_type": "error",
     "traceback": [
      "\u001b[0;31m---------------------------------------------------------------------------\u001b[0m",
      "\u001b[0;31mModuleNotFoundError\u001b[0m                       Traceback (most recent call last)",
      "Cell \u001b[0;32mIn[7], line 1\u001b[0m\n\u001b[0;32m----> 1\u001b[0m \u001b[38;5;28;01mfrom\u001b[39;00m \u001b[38;5;21;01mlangchain\u001b[39;00m\u001b[38;5;21;01m.\u001b[39;00m\u001b[38;5;21;01mllms\u001b[39;00m \u001b[38;5;28;01mimport\u001b[39;00m Replicate\n\u001b[1;32m      3\u001b[0m llama2_13b \u001b[38;5;241m=\u001b[39m \u001b[38;5;124m\"\u001b[39m\u001b[38;5;124mmeta/llama-2-13b-chat:f4e2de70d66816a838a89eeeb621910adffb0dd0baba3976c96980970978018d\u001b[39m\u001b[38;5;124m\"\u001b[39m\n\u001b[1;32m      4\u001b[0m llm \u001b[38;5;241m=\u001b[39m Replicate(\n\u001b[1;32m      5\u001b[0m     model\u001b[38;5;241m=\u001b[39mllama2_13b,\n\u001b[1;32m      6\u001b[0m     model_kwargs\u001b[38;5;241m=\u001b[39m{\u001b[38;5;124m\"\u001b[39m\u001b[38;5;124mtemperature\u001b[39m\u001b[38;5;124m\"\u001b[39m: \u001b[38;5;241m0.01\u001b[39m, \u001b[38;5;124m\"\u001b[39m\u001b[38;5;124mtop_p\u001b[39m\u001b[38;5;124m\"\u001b[39m: \u001b[38;5;241m1\u001b[39m, \u001b[38;5;124m\"\u001b[39m\u001b[38;5;124mmax_new_tokens\u001b[39m\u001b[38;5;124m\"\u001b[39m:\u001b[38;5;241m500\u001b[39m}\n\u001b[1;32m      7\u001b[0m )\n",
      "\u001b[0;31mModuleNotFoundError\u001b[0m: No module named 'langchain'"
     ]
    }
   ],
   "source": [
    "from langchain.llms import Replicate\n",
    "\n",
    "llama2_13b = \"meta/llama-2-13b-chat:f4e2de70d66816a838a89eeeb621910adffb0dd0baba3976c96980970978018d\"\n",
    "llm = Replicate(\n",
    "    model=llama2_13b,\n",
    "    model_kwargs={\"temperature\": 0.01, \"top_p\": 1, \"max_new_tokens\":500}\n",
    ")"
   ]
  },
  {
   "cell_type": "code",
   "execution_count": null,
   "id": "b7d1da83",
   "metadata": {},
   "outputs": [],
   "source": [
    "workflow_to_be_converted = input()"
   ]
  },
  {
   "cell_type": "code",
   "execution_count": null,
   "id": "f6f827e5",
   "metadata": {},
   "outputs": [],
   "source": [
    "query = \"Create a correct syntatically mermaid (it must be mermaid!!) TD graph that describes provided workflow. Please include the code only. Use proper block shapes.\"\n",
    "answer = llm(query + workflow_to_be_converted)\n",
    "print(answer)"
   ]
  }
 ],
 "metadata": {
  "kernelspec": {
   "display_name": "Python 3 (ipykernel)",
   "language": "python",
   "name": "python3"
  },
  "language_info": {
   "codemirror_mode": {
    "name": "ipython",
    "version": 3
   },
   "file_extension": ".py",
   "mimetype": "text/x-python",
   "name": "python",
   "nbconvert_exporter": "python",
   "pygments_lexer": "ipython3",
   "version": "3.10.9"
  }
 },
 "nbformat": 4,
 "nbformat_minor": 5
}
